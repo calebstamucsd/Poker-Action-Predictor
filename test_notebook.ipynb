{
 "cells": [
  {
   "cell_type": "code",
   "execution_count": 2,
   "metadata": {},
   "outputs": [],
   "source": [
    "from tqdm.auto import tqdm\n",
    "import torch\n",
    "import json\n",
    "import os\n",
    "from sklearn.preprocessing import OneHotEncoder\n",
    "import numpy as np\n",
    "from dataloader import * "
   ]
  },
  {
   "cell_type": "code",
   "execution_count": 3,
   "metadata": {},
   "outputs": [],
   "source": [
    "data_list = torch.load('data/training/data_list_0.pt')"
   ]
  },
  {
   "cell_type": "code",
   "execution_count": 17,
   "metadata": {},
   "outputs": [
    {
     "data": {
      "text/plain": [
       "tensor([34.8000, 30.7000], dtype=torch.float64)"
      ]
     },
     "execution_count": 17,
     "metadata": {},
     "output_type": "execute_result"
    }
   ],
   "source": [
    "torch.stack((torch.tensor(data_list[0][1][0]), torch.tensor(data_list[4][1][0])), dim=0)"
   ]
  },
  {
   "cell_type": "code",
   "execution_count": 12,
   "metadata": {},
   "outputs": [
    {
     "data": {
      "text/plain": [
       "tensor([34.8000, 36.5000], dtype=torch.float64)"
      ]
     },
     "execution_count": 12,
     "metadata": {},
     "output_type": "execute_result"
    }
   ],
   "source": [
    "torch.tensor(data_list[0][1])"
   ]
  },
  {
   "cell_type": "code",
   "execution_count": 3,
   "metadata": {},
   "outputs": [
    {
     "name": "stdout",
     "output_type": "stream",
     "text": [
      "0.07396449704142083\n"
     ]
    }
   ],
   "source": [
    "running_prod = 1\n",
    "for i in range(100):\n",
    "    running_prod *= (1 - (2*(1 / ((52**2)-(2*i)))))\n",
    "print(1-running_prod)"
   ]
  },
  {
   "cell_type": "code",
   "execution_count": 11,
   "metadata": {},
   "outputs": [
    {
     "name": "stderr",
     "output_type": "stream",
     "text": [
      "402126it [00:05, 76640.57it/s]\n"
     ]
    }
   ],
   "source": [
    "with open('hands_valid.json', 'r') as f_in:\n",
    "    with open('2p_hands.json', 'w') as f_out:\n",
    "        for line in tqdm(f_in):\n",
    "            data = json.loads(line)\n",
    "            if(data['num_players'] == 2):\n",
    "                f_out.write(line)"
   ]
  },
  {
   "cell_type": "code",
   "execution_count": 60,
   "metadata": {},
   "outputs": [
    {
     "name": "stderr",
     "output_type": "stream",
     "text": [
      "367055it [00:03, 95409.81it/s]"
     ]
    },
    {
     "name": "stdout",
     "output_type": "stream",
     "text": [
      "20\n"
     ]
    },
    {
     "name": "stderr",
     "output_type": "stream",
     "text": [
      "\n"
     ]
    }
   ],
   "source": [
    "maximum_size = 0\n",
    "with open('super_filtered.json', 'r') as file:\n",
    "    i = 0\n",
    "    for line in tqdm(file):\n",
    "        data = json.loads(line)\n",
    "        action_count = 0\n",
    "        for round in data['players'][0]['bets']:\n",
    "            action_count += len(round['actions'])\n",
    "        for round in data['players'][1]['bets']:\n",
    "            action_count += len(round['actions'])\n",
    "        if(action_count > maximum_size):\n",
    "            maximum_size = action_count\n",
    "print(maximum_size)"
   ]
  },
  {
   "cell_type": "code",
   "execution_count": 57,
   "metadata": {},
   "outputs": [
    {
     "name": "stderr",
     "output_type": "stream",
     "text": [
      "402126it [00:06, 66596.71it/s]\n"
     ]
    }
   ],
   "source": [
    "with open('hands_valid.json', 'r') as f_in:\n",
    "    with open('super_filtered.json', 'w') as f_out:\n",
    "        for line in tqdm(f_in):\n",
    "            data = json.loads(line)\n",
    "            if(data['num_players'] == 2):\n",
    "                action_count = 0\n",
    "                for round in data['players'][0]['bets']:\n",
    "                    action_count += len(round['actions'])\n",
    "                for round in data['players'][1]['bets']:\n",
    "                    action_count += len(round['actions'])\n",
    "                if(action_count <= 20):\n",
    "                    f_out.write(line)"
   ]
  },
  {
   "cell_type": "code",
   "execution_count": 59,
   "metadata": {},
   "outputs": [
    {
     "name": "stderr",
     "output_type": "stream",
     "text": [
      "369772it [00:00, 723615.60it/s]\n"
     ]
    }
   ],
   "source": [
    "with open('2p_hands.json', 'r') as f_in:\n",
    "    for lin in tqdm(f_in):\n",
    "        None"
   ]
  },
  {
   "cell_type": "code",
   "execution_count": 24,
   "metadata": {},
   "outputs": [],
   "source": [
    "def encode_bets(bets):\n",
    "    '''\n",
    "    One-hot encodes the rounds of the game (pre-flop, flop, turn, and river) as well as the many\n",
    "    actions a SINGLE player has made. i.e., we need to call this once per player\n",
    "    '''\n",
    "    round_encoder = OneHotEncoder(categories=[['p', 'f', 't', 'r']])\n",
    "    action_encoder = OneHotEncoder(categories=[['-', 'B', 'f', 'k', 'b', 'c', 'r', 'A', 'Q', 'K']])\n",
    "    round_list, action_list = [], []\n",
    "    for round in bets:\n",
    "        for action in round['actions']:\n",
    "            round_list.append(round['stage'])\n",
    "            action_list.append(action)\n",
    "    rounds = round_encoder.fit_transform(np.array(round_list).reshape(-1, 1)).toarray()\n",
    "    actions = action_encoder.fit_transform(np.array(action_list).reshape(-1,1)).toarray()\n",
    "    return torch.tensor(rounds.T), torch.tensor(actions)"
   ]
  },
  {
   "cell_type": "code",
   "execution_count": 64,
   "metadata": {},
   "outputs": [
    {
     "name": "stderr",
     "output_type": "stream",
     "text": [
      "367055it [03:25, 1785.48it/s]\n"
     ]
    }
   ],
   "source": [
    "round_encoder = OneHotEncoder(categories=[['p', 'f', 't', 'r']])\n",
    "action_encoder = OneHotEncoder(categories=[['-', 'B', 'f', 'k', 'b', 'c', 'r', 'A', 'Q', 'K']])\n",
    "\n",
    "full_data_list = []\n",
    "\n",
    "with open('super_filtered.json', 'r') as file:\n",
    "    i = 0\n",
    "    for line in tqdm(file):\n",
    "        if (i > 0): break\n",
    "        data = json.loads(line)\n",
    "        player_1 = data['players'][0]['bets']\n",
    "        player_2 = data['players'][1]['bets']\n",
    "        mixed_action_list = []\n",
    "        player_list = []\n",
    "        round_list = []\n",
    "        for p1_round, p2_round in zip(player_1, player_2):\n",
    "            j = 0\n",
    "            while(True):\n",
    "                try:\n",
    "                    mixed_action_list.append(p1_round['actions'][j])\n",
    "                    player_list.append(0)\n",
    "                    round_list.append(p1_round['stage'])\n",
    "                except:\n",
    "                    break\n",
    "                try:\n",
    "                    mixed_action_list.append(p2_round['actions'][j])\n",
    "                    player_list.append(1)\n",
    "                    round_list.append(p2_round['stage'])\n",
    "                except:\n",
    "                    break\n",
    "                j += 1\n",
    "        mixed_action_tensor = torch.tensor(action_encoder.fit_transform(np.array(mixed_action_list).reshape(-1,1)).toarray().T)\n",
    "        round_tensor = torch.tensor(round_encoder.fit_transform(np.array(round_list).reshape(-1,1)).toarray().T)\n",
    "        player_tensor = torch.tensor(player_list).reshape(1, len(player_list))\n",
    "        full_tensor = torch.concat((round_tensor, player_tensor, mixed_action_tensor))\n",
    "        padded_tensor = torch.nn.functional.pad(full_tensor, (0, maximum_size-full_tensor.shape[1]), mode='constant', value=0)\n",
    "        full_data_list.append(padded_tensor)\n",
    "torch.save(full_data_list, 'huge_list.pt')"
   ]
  },
  {
   "cell_type": "code",
   "execution_count": 90,
   "metadata": {},
   "outputs": [
    {
     "data": {
      "text/plain": [
       "torch.Size([15, 20])"
      ]
     },
     "execution_count": 90,
     "metadata": {},
     "output_type": "execute_result"
    }
   ],
   "source": []
  },
  {
   "cell_type": "code",
   "execution_count": 71,
   "metadata": {},
   "outputs": [
    {
     "name": "stderr",
     "output_type": "stream",
     "text": [
      "100%|██████████| 5736/5736 [00:00<00:00, 5915.79it/s]\n"
     ]
    }
   ],
   "source": [
    "random_indices = np.random.permutation(range(len(full_data_list)))\n",
    "batch_size = 64\n",
    "batches = []\n",
    "for i in tqdm(range(0, len(full_data_list), batch_size)):\n",
    "    end_index = min((i+batch_size), len(full_data_list))\n",
    "    tensor_list = [full_data_list[random_indices[j]] for j in range(i, end_index)]\n",
    "    batch = torch.stack(tensor_list, dim=0)\n",
    "    batches.append(batch)"
   ]
  },
  {
   "cell_type": "code",
   "execution_count": 3,
   "metadata": {},
   "outputs": [
    {
     "name": "stdout",
     "output_type": "stream",
     "text": [
      "Shuffling data (outside of batches!)\n"
     ]
    },
    {
     "name": "stderr",
     "output_type": "stream",
     "text": [
      "100%|██████████| 4589/4589 [00:02<00:00, 1981.61it/s]\n",
      "100%|██████████| 574/574 [00:00<00:00, 2168.53it/s]\n",
      "100%|██████████| 574/574 [00:00<00:00, 1848.64it/s]\n"
     ]
    }
   ],
   "source": [
    "from dataloader import load_batches\n",
    "train, val, test = load_batches(batch_size=64)"
   ]
  },
  {
   "cell_type": "code",
   "execution_count": 4,
   "metadata": {},
   "outputs": [
    {
     "data": {
      "text/plain": [
       "torch.Size([64, 20, 15])"
      ]
     },
     "execution_count": 4,
     "metadata": {},
     "output_type": "execute_result"
    }
   ],
   "source": [
    "train[0].shape"
   ]
  },
  {
   "cell_type": "code",
   "execution_count": 12,
   "metadata": {},
   "outputs": [
    {
     "data": {
      "text/plain": [
       "tensor(0.0781)"
      ]
     },
     "execution_count": 12,
     "metadata": {},
     "output_type": "execute_result"
    }
   ],
   "source": [
    "inputs = torch.argmax(torch.randn(128, 10), dim=1)\n",
    "targets = torch.argmax(torch.randn(128, 10), dim=1)\n",
    "torch.count_nonzero(inputs == targets)/inputs.shape[0]"
   ]
  },
  {
   "cell_type": "code",
   "execution_count": 87,
   "metadata": {},
   "outputs": [
    {
     "data": {
      "text/plain": [
       "torch.Size([64, 10, 19])"
      ]
     },
     "execution_count": 87,
     "metadata": {},
     "output_type": "execute_result"
    }
   ],
   "source": [
    "train[0][:, -10:, 1:].shape"
   ]
  },
  {
   "cell_type": "code",
   "execution_count": 88,
   "metadata": {},
   "outputs": [
    {
     "data": {
      "text/plain": [
       "torch.Size([64, 15, 19])"
      ]
     },
     "execution_count": 88,
     "metadata": {},
     "output_type": "execute_result"
    }
   ],
   "source": [
    "train[0][:,:,:-1].shape"
   ]
  },
  {
   "cell_type": "code",
   "execution_count": 30,
   "metadata": {},
   "outputs": [
    {
     "name": "stdout",
     "output_type": "stream",
     "text": [
      "2.553941249847412\n"
     ]
    }
   ],
   "source": [
    "def my_loss(output, target):\n",
    "    loss = torch.mean((output - target)**2)\n",
    "    return loss\n",
    "\n",
    "model = torch.nn.Linear(2, 2)\n",
    "x = torch.randn(1, 2)\n",
    "target = torch.randn(1, 2)\n",
    "output = model(x)\n",
    "loss = my_loss(output, target)\n",
    "loss.backward()\n",
    "print(loss.item())"
   ]
  },
  {
   "cell_type": "code",
   "execution_count": 19,
   "metadata": {},
   "outputs": [
    {
     "data": {
      "text/plain": [
       "torch.Size([8, 45])"
      ]
     },
     "execution_count": 19,
     "metadata": {},
     "output_type": "execute_result"
    }
   ],
   "source": [
    "torch.load('training/input_data_001.pt')[0].shape"
   ]
  },
  {
   "cell_type": "code",
   "execution_count": 4,
   "metadata": {},
   "outputs": [
    {
     "data": {
      "text/plain": [
       "torch.Size([1, 104])"
      ]
     },
     "execution_count": 4,
     "metadata": {},
     "output_type": "execute_result"
    }
   ],
   "source": [
    "torch.load('training/target_data_001.pt')[0].shape"
   ]
  },
  {
   "cell_type": "code",
   "execution_count": 5,
   "metadata": {},
   "outputs": [],
   "source": [
    "t = torch.load('training/target_data_001.pt')[0]"
   ]
  },
  {
   "cell_type": "code",
   "execution_count": 6,
   "metadata": {},
   "outputs": [],
   "source": [
    "y = torch.load('training/target_data_001.pt')[1]"
   ]
  },
  {
   "cell_type": "code",
   "execution_count": 15,
   "metadata": {},
   "outputs": [],
   "source": [
    "yc1, yc2 = torch.split(y, 52, dim=1)"
   ]
  },
  {
   "cell_type": "code",
   "execution_count": 14,
   "metadata": {},
   "outputs": [],
   "source": [
    "tc1, tc2 = torch.split(t, 52, dim=1)"
   ]
  },
  {
   "cell_type": "code",
   "execution_count": null,
   "metadata": {},
   "outputs": [],
   "source": [
    "yc1"
   ]
  },
  {
   "cell_type": "code",
   "execution_count": 18,
   "metadata": {},
   "outputs": [
    {
     "data": {
      "text/plain": [
       "tensor(7.9675, dtype=torch.float64)"
      ]
     },
     "execution_count": 18,
     "metadata": {},
     "output_type": "execute_result"
    }
   ],
   "source": [
    "criterion = torch.nn.CrossEntropyLoss()\n",
    "torch.add(criterion(yc1, tc1), criterion(yc2, tc2))"
   ]
  },
  {
   "cell_type": "code",
   "execution_count": null,
   "metadata": {},
   "outputs": [],
   "source": [
    "def fourLoss(y, t):\n",
    "    yc1, yc2 = torch.split(y, 52, dim=0)\n",
    "    tc1, tc2 = torch.split(t, 52, dim=0)"
   ]
  }
 ],
 "metadata": {
  "kernelspec": {
   "display_name": "cuda",
   "language": "python",
   "name": "python3"
  },
  "language_info": {
   "codemirror_mode": {
    "name": "ipython",
    "version": 3
   },
   "file_extension": ".py",
   "mimetype": "text/x-python",
   "name": "python",
   "nbconvert_exporter": "python",
   "pygments_lexer": "ipython3",
   "version": "3.11.5"
  }
 },
 "nbformat": 4,
 "nbformat_minor": 2
}
